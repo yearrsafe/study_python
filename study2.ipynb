{
 "cells": [
  {
   "metadata": {},
   "cell_type": "markdown",
   "source": "# 数据处理",
   "id": "84f019adcbc8fa9a"
  },
  {
   "metadata": {
    "ExecuteTime": {
     "end_time": "2025-08-07T03:09:32.112426Z",
     "start_time": "2025-08-07T03:09:32.103980Z"
    }
   },
   "cell_type": "code",
   "source": [
    "import pandas as pd\n",
    "import json\n",
    "with open (r'score.json',encoding='utf-8') as f:\n",
    "    data = json.load(f)\n",
    "df=pd.DataFrame(data)\n",
    "print(df)"
   ],
   "id": "f35e087733bfc1d7",
   "outputs": [
    {
     "name": "stdout",
     "output_type": "stream",
     "text": [
      "    姓名        学号  语文  数学  英语   总分\n",
      "0   张伟  S2023001  85  92  78  255\n",
      "1   王芳  S2023002  91  88  95  274\n",
      "2   李强  S2023003  76  80  85  241\n",
      "3   刘杰  S2023004  88  75  90  253\n",
      "4   陈静  S2023005  95  90  88  273\n",
      "5   杨洋  S2023006  82  85  79  246\n",
      "6   赵丽  S2023007  79  91  83  253\n",
      "7   周伟  S2023008  90  82  87  259\n",
      "8   吴敏  S2023009  87  78  91  256\n",
      "9   徐浩  S2023010  84  95  80  259\n",
      "10  孙磊  S2023011  89  86  92  267\n",
      "11  朱琳  S2023012  75  93  85  253\n",
      "12  高军  S2023013  92  81  88  261\n",
      "13  林涛  S2023014  86  89  76  251\n",
      "14  何华  S2023015  93  77  90  260\n",
      "15  郭静  S2023016  81  94  84  259\n",
      "16  马超  S2023017  88  83  89  260\n",
      "17  段丽  S2023018  79  87  93  259\n",
      "18  曹阳  S2023019  94  85  77  256\n",
      "19  孟伟  S2023020  83  90  86  259\n",
      "20  侯静  S2023021  87  92  81  260\n",
      "21  蔡杰  S2023022  90  88  85  263\n",
      "22  丁敏  S2023023  81  79  94  254\n",
      "23  方超  S2023024  95  82  88  265\n",
      "24  江涛  S2023025  84  91  83  258\n",
      "25  潘丽  S2023026  89  80  92  261\n",
      "26  任伟  S2023027  78  94  87  259\n",
      "27  宋华  S2023028  92  85  80  257\n",
      "28  谭杰  S2023029  86  90  84  260\n",
      "29  魏敏  S2023030  93  87  91  271\n",
      "30  夏浩  S2023031  81  78  85  244\n",
      "31  许磊  S2023032  90  95  88  273\n",
      "32  严静  S2023033  85  82  93  260\n",
      "33  张杰  S2023034  79  86  80  245\n",
      "34  郑伟  S2023035  88  91  79  258\n",
      "35  钟芳  S2023036  94  83  87  264\n",
      "36  丁伟  S2023037  80  92  85  257\n",
      "37  冯敏  S2023038  87  78  91  256\n",
      "38  何伟  S2023039  91  89  84  264\n",
      "39  金丽  S2023040  85  90  88  263\n",
      "40  孔涛  S2023041  76  83  95  254\n",
      "41  梁杰  S2023042  92  87  80  259\n",
      "42  罗静  S2023043  88  94  86  268\n",
      "43  钱超  S2023044  95  81  90  266\n",
      "44  石磊  S2023045  83  88  79  250\n",
      "45  唐华  S2023046  89  93  85  267\n",
      "46  文敏  S2023047  77  86  91  254\n",
      "47  吴浩  S2023048  91  80  94  265\n",
      "48  肖丽  S2023049  85  92  88  265\n",
      "49  于涛  S2023050  93  87  80  260\n"
     ]
    }
   ],
   "execution_count": 18
  },
  {
   "metadata": {
    "ExecuteTime": {
     "end_time": "2025-08-12T22:44:21.765766Z",
     "start_time": "2025-08-12T22:44:21.744738Z"
    }
   },
   "cell_type": "code",
   "source": [
    "import pandas as pd\n",
    "import numpy as np\n",
    "import json\n",
    "\n",
    "with open (r'weather.json',encoding='utf-8') as f1:\n",
    "    data1=json.load(f1)\n",
    "df=pd.DataFrame(data1)\n",
    "print(df.isna().sum())\n",
    "print('-'*20)\n",
    "print(df.dropna())\n",
    "print('-'*20)\n",
    "print(df.dropna(subset=['城市','日期']))\n",
    "print(df['最低气温'].mean())\n",
    "print('-'*20)\n",
    "print(df['最高气温'].mean())"
   ],
   "id": "bfcece5ceb51f869",
   "outputs": [
    {
     "name": "stdout",
     "output_type": "stream",
     "text": [
      "城市       0\n",
      "日期       0\n",
      "最高气温     5\n",
      "最低气温     6\n",
      "天气状况     0\n",
      "风速      25\n",
      "湿度      18\n",
      "dtype: int64\n",
      "--------------------\n",
      "     城市          日期  最高气温  最低气温 天气状况    风速    湿度\n",
      "0    北京  2025-08-01  32.0  25.0   晴朗  15.0  60.0\n",
      "2    上海  2025-08-01  34.0  28.0   阵雨  20.0  80.0\n",
      "5    广州  2025-08-02  33.0  28.0   多云  17.0  85.0\n",
      "6    深圳  2025-08-01  34.0  28.0   晴朗  19.0  70.0\n",
      "7    深圳  2025-08-02  31.0  26.0   阵雨  25.0  88.0\n",
      "..   ..         ...   ...   ...  ...   ...   ...\n",
      "132  西安  2025-08-07  31.0  24.0   多云  11.0  65.0\n",
      "133  重庆  2025-08-08  36.0  30.0   晴朗  16.0  55.0\n",
      "134  北京  2025-08-08  28.0  23.0   小雨  10.0  78.0\n",
      "137  杭州  2025-08-08  29.0  23.0   多云  14.0  75.0\n",
      "138  武汉  2025-08-08  32.0  26.0   多云  15.0  68.0\n",
      "\n",
      "[87 rows x 7 columns]\n",
      "--------------------\n",
      "     城市          日期  最高气温  最低气温 天气状况    风速    湿度\n",
      "0    北京  2025-08-01  32.0  25.0   晴朗  15.0  60.0\n",
      "1    北京  2025-08-02  30.0  24.0   多云   NaN  65.0\n",
      "2    上海  2025-08-01  34.0  28.0   阵雨  20.0  80.0\n",
      "3    上海  2025-08-02   NaN  27.0   多云  18.0  75.0\n",
      "4    广州  2025-08-01  35.0  29.0  雷阵雨  22.0   NaN\n",
      "..   ..         ...   ...   ...  ...   ...   ...\n",
      "135  上海  2025-08-08  31.0   NaN   多云  17.0  78.0\n",
      "136  成都  2025-08-08  27.0  22.0   小雨   9.0   NaN\n",
      "137  杭州  2025-08-08  29.0  23.0   多云  14.0  75.0\n",
      "138  武汉  2025-08-08  32.0  26.0   多云  15.0  68.0\n",
      "139  西安  2025-08-08   NaN  22.0   晴朗  10.0  60.0\n",
      "\n",
      "[140 rows x 7 columns]\n",
      "22.71641791044776\n",
      "--------------------\n",
      "29.83703703703704\n"
     ]
    }
   ],
   "execution_count": 4
  },
  {
   "metadata": {
    "ExecuteTime": {
     "end_time": "2025-08-13T04:45:02.482952Z",
     "start_time": "2025-08-13T04:45:02.465614Z"
    }
   },
   "cell_type": "code",
   "source": [
    "import pandas as pd\n",
    "import numpy as np\n",
    "df=pd.DataFrame({\n",
    "    'id':[1,2,3,4,5],\n",
    "    'name':['n1','n2','n3','n4','n5'],\n",
    "    'math':[80,90,59,88,88],\n",
    "    'science':[100,20,60,80,90]\n",
    "}\n",
    ")\n",
    "print(df)\n",
    "print('-'*20)\n",
    "df1=pd.melt(df,id_vars=['id','name'],var_name='subject',value_name='score')\n",
    "print(df1)\n",
    "print('-'*20)\n",
    "print(df1.sort_values(by='name'))\n",
    "print('-'*20)\n",
    "print(pd.pivot(df1,columns='subject',values='score',index=['id','name']))"
   ],
   "id": "33b81c6ffa21ffe1",
   "outputs": [
    {
     "name": "stdout",
     "output_type": "stream",
     "text": [
      "   id name  math  science\n",
      "0   1   n1    80      100\n",
      "1   2   n2    90       20\n",
      "2   3   n3    59       60\n",
      "3   4   n4    88       80\n",
      "4   5   n5    88       90\n",
      "--------------------\n",
      "   id name  subject  score\n",
      "0   1   n1     math     80\n",
      "1   2   n2     math     90\n",
      "2   3   n3     math     59\n",
      "3   4   n4     math     88\n",
      "4   5   n5     math     88\n",
      "5   1   n1  science    100\n",
      "6   2   n2  science     20\n",
      "7   3   n3  science     60\n",
      "8   4   n4  science     80\n",
      "9   5   n5  science     90\n",
      "--------------------\n",
      "   id name  subject  score\n",
      "0   1   n1     math     80\n",
      "5   1   n1  science    100\n",
      "1   2   n2     math     90\n",
      "6   2   n2  science     20\n",
      "2   3   n3     math     59\n",
      "7   3   n3  science     60\n",
      "3   4   n4     math     88\n",
      "8   4   n4  science     80\n",
      "4   5   n5     math     88\n",
      "9   5   n5  science     90\n",
      "--------------------\n",
      "subject  math  science\n",
      "id name               \n",
      "1  n1      80      100\n",
      "2  n2      90       20\n",
      "3  n3      59       60\n",
      "4  n4      88       80\n",
      "5  n5      88       90\n"
     ]
    }
   ],
   "execution_count": 11
  },
  {
   "metadata": {},
   "cell_type": "code",
   "outputs": [],
   "execution_count": null,
   "source": "",
   "id": "7428b4842f58f6d4"
  }
 ],
 "metadata": {
  "kernelspec": {
   "display_name": "Python 3",
   "language": "python",
   "name": "python3"
  },
  "language_info": {
   "codemirror_mode": {
    "name": "ipython",
    "version": 2
   },
   "file_extension": ".py",
   "mimetype": "text/x-python",
   "name": "python",
   "nbconvert_exporter": "python",
   "pygments_lexer": "ipython2",
   "version": "2.7.6"
  }
 },
 "nbformat": 4,
 "nbformat_minor": 5
}

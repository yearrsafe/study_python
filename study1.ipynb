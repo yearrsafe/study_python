{
 "cells": [
  {
   "metadata": {},
   "cell_type": "markdown",
   "source": "# Series的创建",
   "id": "27d64ae33504df38"
  },
  {
   "metadata": {
    "ExecuteTime": {
     "end_time": "2025-08-05T01:33:27.433247Z",
     "start_time": "2025-08-05T01:33:27.428523Z"
    }
   },
   "cell_type": "code",
   "source": [
    "import pandas as pd\n",
    "s=pd.Series([1,2,3,4,5])\n",
    "print(s)\n",
    "#最左边的是数据值的索引，右列是数据"
   ],
   "id": "d111567c916e8da4",
   "outputs": [
    {
     "name": "stdout",
     "output_type": "stream",
     "text": [
      "0    1\n",
      "1    2\n",
      "2    3\n",
      "3    4\n",
      "4    5\n",
      "dtype: int64\n"
     ]
    }
   ],
   "execution_count": 2
  },
  {
   "metadata": {
    "ExecuteTime": {
     "end_time": "2025-08-05T01:35:00.199068Z",
     "start_time": "2025-08-05T01:35:00.193111Z"
    }
   },
   "cell_type": "code",
   "source": [
    "s=pd.Series([1,2,3,4,5],index=['a','b','c','d','e'],name='Month')\n",
    "print(s)"
   ],
   "id": "a64b99f8ad84d508",
   "outputs": [
    {
     "name": "stdout",
     "output_type": "stream",
     "text": [
      "a    1\n",
      "b    2\n",
      "c    3\n",
      "d    4\n",
      "e    5\n",
      "dtype: int64\n"
     ]
    }
   ],
   "execution_count": 3
  },
  {
   "metadata": {
    "ExecuteTime": {
     "end_time": "2025-08-05T01:38:10.314214Z",
     "start_time": "2025-08-05T01:38:10.306309Z"
    }
   },
   "cell_type": "code",
   "source": [
    "#使用字段创建\n",
    "s=pd.Series({\"a\":1,\"b\":2,\"c\":3,\"d\":4,\"e\":5})\n",
    "print(s)\n",
    "s1=pd.Series(s,index=['a','c'])\n",
    "print(s1)"
   ],
   "id": "7aaaa8544c6b6b40",
   "outputs": [
    {
     "name": "stdout",
     "output_type": "stream",
     "text": [
      "a    1\n",
      "b    2\n",
      "c    3\n",
      "d    4\n",
      "e    5\n",
      "dtype: int64\n",
      "a    1\n",
      "c    3\n",
      "dtype: int64\n"
     ]
    }
   ],
   "execution_count": 5
  },
  {
   "metadata": {},
   "cell_type": "code",
   "outputs": [],
   "execution_count": null,
   "source": "",
   "id": "80ef7d7a9cd37f5b"
  },
  {
   "metadata": {},
   "cell_type": "markdown",
   "source": "# Series的属性",
   "id": "42e1b8dc7614bc85"
  },
  {
   "metadata": {
    "ExecuteTime": {
     "end_time": "2025-08-05T02:04:26.120354Z",
     "start_time": "2025-08-05T02:04:26.111184Z"
    }
   },
   "cell_type": "code",
   "source": [
    "import pandas as pd\n",
    "s=pd.Series([1,2,3,4,5],index=['a','b','c','d','e'],name='name_0')\n",
    "print(s)\n",
    "print(s.index)\n",
    "print(s.values)\n",
    "print(s.shape,s.ndim,s.size)\n",
    "print(s.dtype,s.name)\n",
    "print(s.loc['c':'e'])\n",
    "print(s.iloc[0:3])\n",
    "print(s.at['a'])\n",
    "print(s.iat[2])"
   ],
   "id": "4400678c99702cf0",
   "outputs": [
    {
     "name": "stdout",
     "output_type": "stream",
     "text": [
      "a    1\n",
      "b    2\n",
      "c    3\n",
      "d    4\n",
      "e    5\n",
      "Name: name_0, dtype: int64\n",
      "Index(['a', 'b', 'c', 'd', 'e'], dtype='object')\n",
      "[1 2 3 4 5]\n",
      "(5,) 1 5\n",
      "int64 name_0\n",
      "c    3\n",
      "d    4\n",
      "e    5\n",
      "Name: name_0, dtype: int64\n",
      "a    1\n",
      "b    2\n",
      "c    3\n",
      "Name: name_0, dtype: int64\n",
      "1\n",
      "3\n"
     ]
    }
   ],
   "execution_count": 11
  },
  {
   "metadata": {},
   "cell_type": "markdown",
   "source": "# 常见函数",
   "id": "b788b251865d3b9b"
  },
  {
   "metadata": {
    "ExecuteTime": {
     "end_time": "2025-08-05T02:59:45.578283Z",
     "start_time": "2025-08-05T02:59:45.562560Z"
    }
   },
   "cell_type": "code",
   "source": [
    "import pandas as pd\n",
    "import numpy as np\n",
    "s=pd.Series([1,2,3,4,np.nan,5],index=['a','b','c','d','e','f'],name='Name')\n",
    "print(s)\n",
    "print(s.head())\n",
    "print(s.tail())\n",
    "print(s.sum())\n",
    "print(s.mean())\n",
    "print(s.min())\n",
    "print(s.var())\n",
    "print(s.std())\n",
    "print(s.median())\n",
    "print(s.mode())\n",
    "print(s.quantile(0.2))\n",
    "print(s.describe())\n",
    "print(s.value_counts())\n",
    "print(s.count())\n",
    "print(s.nunique())\n",
    "print(s.unique())\n",
    "print(s.keys())"
   ],
   "id": "59eda64f22af89f7",
   "outputs": [
    {
     "name": "stdout",
     "output_type": "stream",
     "text": [
      "a    1.0\n",
      "b    2.0\n",
      "c    3.0\n",
      "d    4.0\n",
      "e    NaN\n",
      "f    5.0\n",
      "Name: Name, dtype: float64\n",
      "a    1.0\n",
      "b    2.0\n",
      "c    3.0\n",
      "d    4.0\n",
      "e    NaN\n",
      "Name: Name, dtype: float64\n",
      "b    2.0\n",
      "c    3.0\n",
      "d    4.0\n",
      "e    NaN\n",
      "f    5.0\n",
      "Name: Name, dtype: float64\n",
      "15.0\n",
      "3.0\n",
      "1.0\n",
      "2.5\n",
      "1.5811388300841898\n",
      "3.0\n",
      "0    1.0\n",
      "1    2.0\n",
      "2    3.0\n",
      "3    4.0\n",
      "4    5.0\n",
      "Name: Name, dtype: float64\n",
      "1.8\n",
      "count    5.000000\n",
      "mean     3.000000\n",
      "std      1.581139\n",
      "min      1.000000\n",
      "25%      2.000000\n",
      "50%      3.000000\n",
      "75%      4.000000\n",
      "max      5.000000\n",
      "Name: Name, dtype: float64\n",
      "Name\n",
      "1.0    1\n",
      "2.0    1\n",
      "3.0    1\n",
      "4.0    1\n",
      "5.0    1\n",
      "Name: count, dtype: int64\n",
      "5\n",
      "5\n",
      "[ 1.  2.  3.  4. nan  5.]\n",
      "d    4.0\n",
      "Name: Name, dtype: float64\n",
      "Index(['a', 'b', 'c', 'd', 'e', 'f'], dtype='object')\n"
     ]
    }
   ],
   "execution_count": 18
  },
  {
   "metadata": {},
   "cell_type": "markdown",
   "source": "# DataFrame的创建与属性",
   "id": "a8401b44ab2c87bc"
  },
  {
   "metadata": {
    "ExecuteTime": {
     "end_time": "2025-08-05T07:17:26.133990Z",
     "start_time": "2025-08-05T07:17:26.124325Z"
    }
   },
   "cell_type": "code",
   "source": [
    "import pandas as pd\n",
    "s1=pd.Series([1,2,3,4,5])\n",
    "s2=pd.Series(['a','b','c','d','e'])\n",
    "df1=pd.DataFrame({'第一列':s1,'第二列':s2})\n",
    "print(df1)\n",
    "df2=pd.DataFrame(\n",
    "    {\n",
    "    'id':[1,2,3],\n",
    "    'name':['a','b','c'],\n",
    "    'score':[59.9,80,99.2],\n",
    "},\n",
    "    index=[1,2,3],\n",
    "    columns=['id','name','score']\n",
    ")\n",
    "print(df2)"
   ],
   "id": "1a4fccedc9983d50",
   "outputs": [
    {
     "name": "stdout",
     "output_type": "stream",
     "text": [
      "   第一列 第二列\n",
      "0    1   a\n",
      "1    2   b\n",
      "2    3   c\n",
      "3    4   d\n",
      "4    5   e\n",
      "   id name  score\n",
      "0   1    a   59.9\n",
      "1   2    b   80.0\n",
      "2   3    c   99.2\n"
     ]
    }
   ],
   "execution_count": 20
  },
  {
   "metadata": {
    "ExecuteTime": {
     "end_time": "2025-08-05T08:01:48.365760Z",
     "start_time": "2025-08-05T08:01:48.355745Z"
    }
   },
   "cell_type": "code",
   "source": [
    "print(df2.index)\n",
    "print(df2.columns)\n",
    "print(df2.values)\n",
    "print(df2.dtypes)\n",
    "print(df2.ndim)\n",
    "print(df2.shape)\n",
    "print(df2.size)\n",
    "print(df2.loc[1:3,'id':'name'])\n",
    "print(df2.iloc[:,0])\n",
    "print(df2.at[1,'name'])\n",
    "print(df2.iat[0,1])\n",
    "print(df2.T)"
   ],
   "id": "f611b989eacc0d84",
   "outputs": [
    {
     "name": "stdout",
     "output_type": "stream",
     "text": [
      "RangeIndex(start=0, stop=3, step=1)\n",
      "Index(['id', 'name', 'score'], dtype='object')\n",
      "[[1 'a' 59.9]\n",
      " [2 'b' 80.0]\n",
      " [3 'c' 99.2]]\n",
      "id         int64\n",
      "name      object\n",
      "score    float64\n",
      "dtype: object\n",
      "2\n",
      "(3, 3)\n",
      "9\n",
      "   id name\n",
      "1   2    b\n",
      "2   3    c\n",
      "0    1\n",
      "1    2\n",
      "2    3\n",
      "Name: id, dtype: int64\n",
      "b\n",
      "a\n",
      "          0     1     2\n",
      "id        1     2     3\n",
      "name      a     b     c\n",
      "score  59.9  80.0  99.2\n"
     ]
    }
   ],
   "execution_count": 30
  },
  {
   "metadata": {
    "ExecuteTime": {
     "end_time": "2025-08-06T15:17:51.629539Z",
     "start_time": "2025-08-06T15:17:51.615164Z"
    }
   },
   "cell_type": "code",
   "source": [
    "import numpy as np\n",
    "import pandas as pd\n",
    "df1=pd.DataFrame({\n",
    "    'en':[80,90,65],\n",
    "    'ma':[67,80,80],\n",
    "    'name':['a','b','c']\n",
    "},\n",
    "    index=[1,2,3],\n",
    "    columns=['name','en','ma'])\n",
    "print(df1)\n",
    "print(df1.name[(df1.en>70) | (df1.ma>70)] )\n",
    "\n"
   ],
   "id": "5a4b550fb4a7e211",
   "outputs": [
    {
     "name": "stdout",
     "output_type": "stream",
     "text": [
      "  name  en  ma\n",
      "1    a  80  67\n",
      "2    b  90  80\n",
      "3    c  65  80\n",
      "1    a\n",
      "2    b\n",
      "3    c\n",
      "Name: name, dtype: object\n"
     ]
    }
   ],
   "execution_count": 4
  },
  {
   "metadata": {},
   "cell_type": "code",
   "outputs": [],
   "execution_count": null,
   "source": "",
   "id": "30e36089721528ce"
  }
 ],
 "metadata": {
  "kernelspec": {
   "display_name": "Python 3",
   "language": "python",
   "name": "python3"
  },
  "language_info": {
   "codemirror_mode": {
    "name": "ipython",
    "version": 2
   },
   "file_extension": ".py",
   "mimetype": "text/x-python",
   "name": "python",
   "nbconvert_exporter": "python",
   "pygments_lexer": "ipython2",
   "version": "2.7.6"
  }
 },
 "nbformat": 4,
 "nbformat_minor": 5
}

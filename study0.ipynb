{
 "cells": [
  {
   "metadata": {},
   "cell_type": "markdown",
   "source": [
    "# 一.ndarray\n",
    "## 1.ndarray的特性\n",
    "### 多维性\n",
    "可存在多个维度"
   ],
   "id": "c9d4bea74caa17d4"
  },
  {
   "metadata": {
    "ExecuteTime": {
     "end_time": "2025-07-31T07:20:25.101949Z",
     "start_time": "2025-07-31T07:20:24.976308Z"
    }
   },
   "cell_type": "code",
   "source": "import numpy as np",
   "id": "dfe28efd8d9b2ec",
   "outputs": [],
   "execution_count": 1
  },
  {
   "metadata": {
    "ExecuteTime": {
     "end_time": "2025-07-31T07:24:42.899522Z",
     "start_time": "2025-07-31T07:24:42.895483Z"
    }
   },
   "cell_type": "code",
   "source": [
    "arr=np.array([[1,2,3,4,1],[5,6,7,8,5]])         #创建了一个零维的ndarray的数组\n",
    "print(arr)\n",
    "print(\"arr的维度是\",arr.ndim)       #ndim方法返回arr的维度（number of dimensions）"
   ],
   "id": "ef0a8c05ae2fd554",
   "outputs": [
    {
     "name": "stdout",
     "output_type": "stream",
     "text": [
      "[[1 2 3 4 1]\n",
      " [5 6 7 8 5]]\n",
      "arr的维度是 2\n"
     ]
    }
   ],
   "execution_count": 7
  },
  {
   "metadata": {},
   "cell_type": "markdown",
   "source": [
    "### 同质性\n",
    "一个ndarray的元素的数据类型是相同的，不同的数据类型会被强转到相同\n"
   ],
   "id": "7f5fc48752aee6b3"
  },
  {
   "metadata": {
    "ExecuteTime": {
     "end_time": "2025-07-31T07:28:40.959044Z",
     "start_time": "2025-07-31T07:28:40.954772Z"
    }
   },
   "cell_type": "code",
   "source": [
    "arr1=np.array([1,2.5])\n",
    "print(arr1)\n",
    "arr2=np.array([1,\"hello\"])\n",
    "print(arr2)"
   ],
   "id": "69b5ef8bb66e898f",
   "outputs": [
    {
     "name": "stdout",
     "output_type": "stream",
     "text": [
      "[1.  2.5]\n",
      "['1' 'hello']\n"
     ]
    }
   ],
   "execution_count": 8
  },
  {
   "metadata": {},
   "cell_type": "markdown",
   "source": "# 属性\n",
   "id": "e267376fec7d8d33"
  },
  {
   "metadata": {
    "ExecuteTime": {
     "end_time": "2025-08-01T02:16:45.768356Z",
     "start_time": "2025-08-01T02:16:45.762848Z"
    }
   },
   "cell_type": "code",
   "source": [
    "import numpy as np\n",
    "arr=np.array([[1,2],[3,4]])\n",
    "print(arr)\n",
    "print(\"数组的形状\",arr.shape)\n",
    "print(\"数组的维度数\",arr.ndim)\n",
    "print(\"数组的元素数\",arr.size)\n",
    "print(\"数组的元素数据类型\",arr.dtype)\n",
    "print(\"数组的转置\",arr.T)"
   ],
   "id": "83de77c59db09b32",
   "outputs": [
    {
     "name": "stdout",
     "output_type": "stream",
     "text": [
      "[[1 2]\n",
      " [3 4]]\n",
      "数组的形状 (2, 2)\n",
      "数组的维度数 2\n",
      "数组的元素数 4\n",
      "数组的元素数据类型 int64\n",
      "数组的转置 [[1 3]\n",
      " [2 4]]\n"
     ]
    }
   ],
   "execution_count": 4
  },
  {
   "metadata": {},
   "cell_type": "markdown",
   "source": "# ndarray的创建",
   "id": "78a735d4e148448a"
  },
  {
   "metadata": {
    "ExecuteTime": {
     "end_time": "2025-08-01T02:53:31.115110Z",
     "start_time": "2025-08-01T02:53:31.109649Z"
    }
   },
   "cell_type": "code",
   "source": [
    "import numpy as np\n",
    "arr=np.array([[1,2],[3,4]])     #基础构造\n",
    "list1=[4,5,6]\n",
    "arr1=np.array(list1,dtype=float)\n",
    "arr2=np.copy(arr1)"
   ],
   "id": "53ef3ce1784d23cb",
   "outputs": [],
   "execution_count": 5
  },
  {
   "metadata": {
    "ExecuteTime": {
     "end_time": "2025-08-01T08:08:05.854962Z",
     "start_time": "2025-08-01T08:08:05.839064Z"
    }
   },
   "cell_type": "code",
   "source": [
    "#全0的数组\n",
    "arr_0=np.zeros((2,3))\n",
    "#全1的数组\n",
    "arr_1=np.ones((3,2))\n",
    "#随机数组\n",
    "arr_e=np.empty((2,3))\n",
    "#填充构造\n",
    "arr_f=np.full((2,3),2)\n",
    "#相似构造\n",
    "arr_l=np.ones_like(arr_0)\n",
    "print(arr_0)\n",
    "print(arr_1)\n",
    "print(arr_e)\n",
    "print(arr_f)\n",
    "print(arr_l)\n",
    "\n"
   ],
   "id": "b5c079279b52b1f1",
   "outputs": [
    {
     "name": "stdout",
     "output_type": "stream",
     "text": [
      "[[0. 0. 0.]\n",
      " [0. 0. 0.]]\n",
      "[[1. 1.]\n",
      " [1. 1.]\n",
      " [1. 1.]]\n",
      "[[6.23042070e-307 4.67296746e-307 1.69121096e-306]\n",
      " [9.45698830e-308 1.89146896e-307 7.56571288e-307]]\n",
      "[[2 2 2]\n",
      " [2 2 2]]\n",
      "[[1. 1. 1.]\n",
      " [1. 1. 1.]]\n"
     ]
    }
   ],
   "execution_count": 6
  },
  {
   "metadata": {
    "ExecuteTime": {
     "end_time": "2025-08-01T10:06:24.270608Z",
     "start_time": "2025-08-01T10:06:24.264675Z"
    }
   },
   "cell_type": "code",
   "source": [
    "#等差数列构造\n",
    "arr_s=np.arange(1,10,3)\n",
    "print(arr_s)\n",
    "arr_m=np.linspace(1,10,5)\n",
    "print(arr_m)\n",
    "arr_log=np.logspace(0,4,3,base=2)\n",
    "print(arr_log)"
   ],
   "id": "23742726147828f5",
   "outputs": [
    {
     "name": "stdout",
     "output_type": "stream",
     "text": [
      "[1 4 7]\n",
      "[ 1.    3.25  5.5   7.75 10.  ]\n",
      "[ 1.  4. 16.]\n"
     ]
    }
   ],
   "execution_count": 10
  },
  {
   "metadata": {},
   "cell_type": "code",
   "outputs": [],
   "execution_count": null,
   "source": "",
   "id": "5ee15148bb2062a7"
  },
  {
   "metadata": {},
   "cell_type": "markdown",
   "source": "# 特殊矩阵构造\n",
   "id": "4f11162a70c7fea9"
  },
  {
   "metadata": {
    "ExecuteTime": {
     "end_time": "2025-08-01T11:40:13.979956Z",
     "start_time": "2025-08-01T11:40:13.969386Z"
    }
   },
   "cell_type": "code",
   "source": [
    "import numpy as np\n",
    "#单位矩阵\n",
    "arr_e=np.eye(3,dtype=int)\n",
    "print(arr_e)\n",
    "arr_d=np.diag([1,2,3,0])\n",
    "print(arr_d)\n"
   ],
   "id": "8af2af4aba356f1e",
   "outputs": [
    {
     "name": "stdout",
     "output_type": "stream",
     "text": [
      "[[1 0 0]\n",
      " [0 1 0]\n",
      " [0 0 1]]\n",
      "[[1 0 0 0]\n",
      " [0 2 0 0]\n",
      " [0 0 3 0]\n",
      " [0 0 0 0]]\n"
     ]
    }
   ],
   "execution_count": 11
  },
  {
   "metadata": {
    "ExecuteTime": {
     "end_time": "2025-08-02T11:45:28.045496Z",
     "start_time": "2025-08-02T11:45:28.037991Z"
    }
   },
   "cell_type": "code",
   "source": [
    "import numpy as np\n",
    "arr_rand=np.random.randn(3,2)\n",
    "print(arr_rand,'\\n')\n",
    "arr_uniform1=np.random.uniform(1,0,(3,2))\n",
    "print(arr_uniform1,\"\\n\")\n",
    "arr_uniform2=np.random.uniform(0,1,(3,2))\n",
    "print(arr_uniform2,\"\\n\")\n",
    "arr_randint=np.random.randint(1,10,(3,2))\n",
    "print(arr_randint,\"\\n\")\n",
    "rng=np.random.RandomState(42)\n",
    "arr_random_state=rng.randint(1,10,(3,2))\n",
    "print(arr_random_state,\"\\n\")"
   ],
   "id": "416ab02cdbac6566",
   "outputs": [
    {
     "name": "stdout",
     "output_type": "stream",
     "text": [
      "[[-0.4823419   0.60950712]\n",
      " [-0.54899855 -2.6610052 ]\n",
      " [-1.8292821  -1.81686961]] \n",
      "\n",
      "[[0.51963618 0.17590099]\n",
      " [0.03382759 0.09989644]\n",
      " [0.04468298 0.24113507]] \n",
      "\n",
      "[[0.47038844 0.3913025 ]\n",
      " [0.25214048 0.01915071]\n",
      " [0.78142263 0.08745133]] \n",
      "\n",
      "[[1 6]\n",
      " [2 7]\n",
      " [6 6]] \n",
      "\n",
      "[[7 4]\n",
      " [8 5]\n",
      " [7 3]] \n",
      "\n"
     ]
    }
   ],
   "execution_count": 5
  },
  {
   "metadata": {},
   "cell_type": "markdown",
   "source": "# ndarray的数据类型\n",
   "id": "accbf9c8996db10f"
  },
  {
   "metadata": {},
   "cell_type": "code",
   "outputs": [],
   "execution_count": null,
   "source": [
    "import numpy as np\n",
    "arr_b=np.array([[1,0],[0,1]],dtype=np.bool)\n",
    "print(arr_b,\"\\n\")\n",
    "arr_i=np.random.randint(1,10,(3,2),dtype=np.uint8)\n",
    "print(arr_i,\"\\n\")\n",
    "arr_ui=np.random.randint(-10,10,(3,2),dtype=np.int8)\n",
    "print(arr_ui,\"\\n\")\n"
   ],
   "id": "ec83d310f15ad65f"
  },
  {
   "metadata": {},
   "cell_type": "markdown",
   "source": "# 索引与切片\n",
   "id": "b9abf9f882a4b2c1"
  },
  {
   "metadata": {
    "ExecuteTime": {
     "end_time": "2025-08-03T07:54:23.306355Z",
     "start_time": "2025-08-03T07:54:23.299951Z"
    }
   },
   "cell_type": "code",
   "source": [
    "#一维数组\n",
    "import numpy as np\n",
    "arr=np.random.randint(1,100,10)\n",
    "print(arr,\"\\n\")\n",
    "print(arr[9])                   #普通索引\n",
    "print(arr[2:7])                 #行切片\n",
    "print(arr[slice(2,7,2)])        #slice函数切片\n",
    "print(arr[arr>10])          #bool索引"
   ],
   "id": "dcddbc3eac833940",
   "outputs": [
    {
     "name": "stdout",
     "output_type": "stream",
     "text": [
      "[43 27 52 37  4 37 93 29 89 70] \n",
      "\n",
      "70\n",
      "[52 37  4 37 93]\n",
      "[52  4 93]\n",
      "[43 27 52 37 37 93 29 89 70]\n"
     ]
    }
   ],
   "execution_count": 3
  },
  {
   "metadata": {
    "ExecuteTime": {
     "end_time": "2025-08-03T08:23:00.599513Z",
     "start_time": "2025-08-03T08:23:00.593504Z"
    }
   },
   "cell_type": "code",
   "source": "#二维数组",
   "id": "2367b1128a4ea2ac",
   "outputs": [],
   "execution_count": 4
  },
  {
   "metadata": {
    "ExecuteTime": {
     "end_time": "2025-08-03T08:53:27.972900Z",
     "start_time": "2025-08-03T08:53:27.967681Z"
    }
   },
   "cell_type": "code",
   "source": [
    "arr=np.random.randint(1,100,(4,3))\n",
    "print(arr,\"\\n\")\n",
    "print(arr[2,0])     #普通索引\n",
    "print(arr[1:2,0:1]) #行列切片\n",
    "print(arr[slice(0,4,2),slice(0,3,2)])\n",
    "print(arr[1,:][arr[1,:]>10]) #嵌套布尔索引"
   ],
   "id": "60104f7c0a586fcc",
   "outputs": [
    {
     "name": "stdout",
     "output_type": "stream",
     "text": [
      "[[95 77 75]\n",
      " [84 93 62]\n",
      " [73 36 56]\n",
      " [20 58 64]] \n",
      "\n",
      "73\n",
      "[[84]]\n",
      "[[95 75]\n",
      " [73 56]]\n",
      "[84 93 62]\n"
     ]
    }
   ],
   "execution_count": 11
  },
  {
   "metadata": {},
   "cell_type": "markdown",
   "source": "# ndarray的运算：",
   "id": "80a256989c0b4363"
  },
  {
   "metadata": {
    "ExecuteTime": {
     "end_time": "2025-08-03T11:37:32.227599Z",
     "start_time": "2025-08-03T11:37:32.218648Z"
    }
   },
   "cell_type": "code",
   "source": [
    "import numpy as np\n",
    "arr1=np.array([[1,2],[3,4]])\n",
    "arr2=np.array([[5,6],[7,8]])\n",
    "print(arr1+arr2,\"\\n\")\n",
    "print(arr1-arr2,\"\\n\")\n",
    "print(arr1*arr2,\"\\n\")\n",
    "print(arr1+3,'\\n')\n",
    "print(arr1*[1,2],'\\n')\n",
    "print(arr1@arr2,'\\n')"
   ],
   "id": "680e79a21693cc49",
   "outputs": [
    {
     "name": "stdout",
     "output_type": "stream",
     "text": [
      "[[ 6  8]\n",
      " [10 12]] \n",
      "\n",
      "[[-4 -4]\n",
      " [-4 -4]] \n",
      "\n",
      "[[ 5 12]\n",
      " [21 32]] \n",
      "\n",
      "[[4 5]\n",
      " [6 7]] \n",
      "\n",
      "[[1 4]\n",
      " [3 8]] \n",
      "\n",
      "[[19 22]\n",
      " [43 50]] \n",
      "\n"
     ]
    }
   ],
   "execution_count": 14
  },
  {
   "metadata": {},
   "cell_type": "markdown",
   "source": "# 例题",
   "id": "6a692534b47264f8"
  },
  {
   "metadata": {
    "ExecuteTime": {
     "end_time": "2025-08-04T10:19:42.760820Z",
     "start_time": "2025-08-04T10:19:42.754413Z"
    }
   },
   "cell_type": "code",
   "source": [
    "import numpy as np\n",
    "score=np.array([85,90,78,92,88])\n",
    "print(np.mean(score),'\\n')\n",
    "print(np.median(score),'\\n')\n",
    "print(np.std(score),'\\n')\n",
    "print(score/1.5)"
   ],
   "id": "aa1bc983229ff276",
   "outputs": [
    {
     "name": "stdout",
     "output_type": "stream",
     "text": [
      "86.6 \n",
      "\n",
      "88.0 \n",
      "\n",
      "4.882622246293481 \n",
      "\n",
      "[56.66666667 60.         52.         61.33333333 58.66666667]\n"
     ]
    }
   ],
   "execution_count": 2
  },
  {
   "metadata": {
    "ExecuteTime": {
     "end_time": "2025-08-04T11:29:06.140248Z",
     "start_time": "2025-08-04T11:29:06.116665Z"
    }
   },
   "cell_type": "code",
   "source": [
    "A=np.array([[1,2],[3,4]])\n",
    "B=np.array([[5,6],[7,8]])\n",
    "print(A+B,\"\\n\")\n",
    "print(A*B,\"\\n\")\n",
    "print(A@B,'\\n')"
   ],
   "id": "7c75f8bcaa551d80",
   "outputs": [
    {
     "name": "stdout",
     "output_type": "stream",
     "text": [
      "[[ 6  8]\n",
      " [10 12]] \n",
      "\n",
      "[[ 5 12]\n",
      " [21 32]] \n",
      "\n",
      "[[19 22]\n",
      " [43 50]] \n",
      "\n"
     ]
    }
   ],
   "execution_count": 5
  },
  {
   "metadata": {
    "ExecuteTime": {
     "end_time": "2025-08-04T11:45:30.024436Z",
     "start_time": "2025-08-04T11:45:30.018844Z"
    }
   },
   "cell_type": "code",
   "source": [
    "rng=np.random.RandomState(0)\n",
    "arr=rng.randint(0,10,(3,4))\n",
    "print(arr,\"\\n\")\n",
    "print(np.max(arr,axis=0))\n",
    "print(np.min(arr,axis=1))\n",
    "print(np.where(arr%2==1,-1,arr))\n",
    "\n",
    "\n"
   ],
   "id": "ba4edf44ad354b16",
   "outputs": [
    {
     "name": "stdout",
     "output_type": "stream",
     "text": [
      "[[5 0 3 3]\n",
      " [7 9 3 5]\n",
      " [2 4 7 6]] \n",
      "\n",
      "[7 9 7 6]\n",
      "[0 3 2]\n",
      "[[-1  0 -1 -1]\n",
      " [-1 -1 -1 -1]\n",
      " [ 2  4 -1  6]]\n"
     ]
    }
   ],
   "execution_count": 11
  },
  {
   "metadata": {
    "ExecuteTime": {
     "end_time": "2025-08-04T14:10:39.676697Z",
     "start_time": "2025-08-04T14:10:39.671067Z"
    }
   },
   "cell_type": "code",
   "source": [
    "import numpy as np\n",
    "arr=np.array([1,2,3,4,5,6,7,8,9,10,11,12])\n",
    "#arr=np.arange(1,13,1)\n",
    "print(np.reshape(arr,(3,4)))\n",
    "brr=np.reshape(arr,(3,4))\n",
    "print(np.mean(brr,axis=1))\n",
    "print(np.mean(brr,axis=0))\n",
    "print(arr,\"\\n\")"
   ],
   "id": "1e73ee76243dac14",
   "outputs": [
    {
     "name": "stdout",
     "output_type": "stream",
     "text": [
      "[[ 1  2  3  4]\n",
      " [ 5  6  7  8]\n",
      " [ 9 10 11 12]]\n",
      "[ 2.5  6.5 10.5]\n",
      "[5. 6. 7. 8.]\n",
      "[ 1  2  3  4  5  6  7  8  9 10 11 12] \n",
      "\n"
     ]
    }
   ],
   "execution_count": 6
  },
  {
   "metadata": {
    "ExecuteTime": {
     "end_time": "2025-08-04T14:14:17.054084Z",
     "start_time": "2025-08-04T14:14:17.048937Z"
    }
   },
   "cell_type": "code",
   "source": [
    "arr=np.random.randint(0,20,(5,5))\n",
    "print(arr,\"\\n\")\n",
    "print(arr[np.greater(arr,10)])\n",
    "print(np.where(arr>10,0,arr))"
   ],
   "id": "5d655e1a3e9356cd",
   "outputs": [
    {
     "name": "stdout",
     "output_type": "stream",
     "text": [
      "[[ 5  4 17  6 19]\n",
      " [ 4  1  8 13  4]\n",
      " [16 18 13  9 16]\n",
      " [13  1 10 10  1]\n",
      " [ 4  3 11 11  2]] \n",
      "\n",
      "[17 19 13 16 18 13 16 13 11 11]\n",
      "[[ 5  4  0  6  0]\n",
      " [ 4  1  8  0  4]\n",
      " [ 0  0  0  9  0]\n",
      " [ 0  1 10 10  1]\n",
      " [ 4  3  0  0  2]]\n"
     ]
    }
   ],
   "execution_count": 8
  },
  {
   "metadata": {
    "ExecuteTime": {
     "end_time": "2025-08-04T14:16:17.915618Z",
     "start_time": "2025-08-04T14:16:17.910513Z"
    }
   },
   "cell_type": "code",
   "source": [
    "arr=np.array([120,135,110,125,130,140])\n",
    "print(np.sum(arr),\"\\n\")\n",
    "print(np.average(arr),\"\\n\")\n",
    "print(np.var(arr),\"\\n\")\n",
    "print(np.argmax(arr),\"\\n\")\n",
    "print(np.argmin(arr),\"\\n\")"
   ],
   "id": "a1d486c2486f3882",
   "outputs": [
    {
     "name": "stdout",
     "output_type": "stream",
     "text": [
      "760 \n",
      "\n",
      "126.66666666666667 \n",
      "\n",
      "97.22222222222223 \n",
      "\n",
      "5 \n",
      "\n",
      "2 \n",
      "\n"
     ]
    }
   ],
   "execution_count": 9
  },
  {
   "metadata": {
    "ExecuteTime": {
     "end_time": "2025-08-04T14:18:18.632589Z",
     "start_time": "2025-08-04T14:18:18.627716Z"
    }
   },
   "cell_type": "code",
   "source": [
    "A=np.array([1,2,3])\n",
    "B=np.array([4,5,6])\n",
    "print(np.concatenate((A,B)))\n",
    "print(np.reshape(np.concatenate((A,B)),(2,3)))"
   ],
   "id": "b1c72b05f2f1f9b9",
   "outputs": [
    {
     "name": "stdout",
     "output_type": "stream",
     "text": [
      "[1 2 3 4 5 6]\n",
      "[[1 2 3]\n",
      " [4 5 6]]\n"
     ]
    }
   ],
   "execution_count": 10
  },
  {
   "metadata": {},
   "cell_type": "code",
   "outputs": [],
   "execution_count": null,
   "source": "",
   "id": "87a9234ec9bd0706"
  }
 ],
 "metadata": {
  "kernelspec": {
   "display_name": "Python 3",
   "language": "python",
   "name": "python3"
  },
  "language_info": {
   "codemirror_mode": {
    "name": "ipython",
    "version": 2
   },
   "file_extension": ".py",
   "mimetype": "text/x-python",
   "name": "python",
   "nbconvert_exporter": "python",
   "pygments_lexer": "ipython2",
   "version": "2.7.6"
  }
 },
 "nbformat": 4,
 "nbformat_minor": 5
}
